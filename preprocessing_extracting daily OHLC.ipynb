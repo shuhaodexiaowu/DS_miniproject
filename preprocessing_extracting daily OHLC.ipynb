{
 "cells": [
  {
   "cell_type": "code",
   "execution_count": 6,
   "metadata": {},
   "outputs": [],
   "source": [
    "import pandas as pd\n",
    "import os\n",
    "import re\n",
    "pattern =r'(2022.*)(tapes)'\n",
    "rownames =[]\n",
    "Open =[]\n",
    "High =[]\n",
    "Close =[]\n",
    "Low = []\n",
    "\n",
    "for root, directory,files in os.walk('F:\\MSc DS\\Mini project\\DataSet_B02'):\n",
    "    for filename in files:\n",
    "        if filename.endswith('csv'):\n",
    "            filepath =os.path.join(root,filename)\n",
    "            datacsv = pd.read_csv(filepath,encoding='latin1',names=[0,1,2,'price',4,5,6,7,8,9,10])   # without encoding it will raise an UnicodeDecodeError\n",
    "            openprice = datacsv['price'][0]\n",
    "            Open.append(openprice)\n",
    "            closeprice = datacsv['price'][len(datacsv)-1]\n",
    "            Close.append(closeprice)\n",
    "            highprice = max(datacsv['price'])\n",
    "            High.append(highprice)\n",
    "            lowprice = min(datacsv['price'])\n",
    "            Low.append(lowprice)\n",
    "            matches = re.findall(pattern, filename)\n",
    "            rowname = matches[0][0]\n",
    "            rownames.append(rowname)\n",
    "\n",
    "\n",
    "dictprice = {'Open':Open,'High':High,'Low':Low,'Close':Close}\n",
    "day_K = pd.DataFrame(dictprice,index =rownames)\n",
    "day_K.to_pickle('.\\Dataset_B02_day_K.pkl')"
   ]
  },
  {
   "cell_type": "code",
   "execution_count": null,
   "metadata": {},
   "outputs": [],
   "source": []
  }
 ],
 "metadata": {
  "kernelspec": {
   "display_name": "Python 3",
   "language": "python",
   "name": "python3"
  },
  "language_info": {
   "codemirror_mode": {
    "name": "ipython",
    "version": 3
   },
   "file_extension": ".py",
   "mimetype": "text/x-python",
   "name": "python",
   "nbconvert_exporter": "python",
   "pygments_lexer": "ipython3",
   "version": "3.7.4"
  }
 },
 "nbformat": 4,
 "nbformat_minor": 2
}
