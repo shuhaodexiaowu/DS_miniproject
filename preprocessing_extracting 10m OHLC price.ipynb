{
 "cells": [
  {
   "cell_type": "code",
   "execution_count": 4,
   "metadata": {},
   "outputs": [],
   "source": [
    "import pandas as pd\n",
    "import os\n",
    "import re"
   ]
  },
  {
   "cell_type": "markdown",
   "metadata": {},
   "source": [
    "The part is split into two parts, because originally we just try with close price."
   ]
  },
  {
   "cell_type": "code",
   "execution_count": 2,
   "metadata": {},
   "outputs": [],
   "source": [
    "closeprice_10min =[]\n",
    "\n",
    "for root, directory,files in os.walk('F:\\MSc DS\\Mini project\\DataSet_B02'):\n",
    "    for filename in files:\n",
    "        if filename.endswith('csv'):\n",
    "            filepath =os.path.join(root,filename)\n",
    "            datacsv = pd.read_csv(filepath,encoding='latin1',names=[0,1,'time','price',4,5,6,7,8,9,10])\n",
    "            count =1\n",
    "            for i in range(len(datacsv)-1):\n",
    "                if datacsv['time'][i] <600* count and datacsv['time'][i+1] >= 600*count:\n",
    "                    closeprice_10min.append(datacsv['price'][i])\n",
    "                    count = count+1\n",
    "            closeprice_10min.append(datacsv['price'][len(datacsv)-1])\n",
    "\n",
    "import pickle\n",
    "\n",
    "output = open('.\\Dataset_B02_10mins.pkl', 'wb')\n",
    "pickle.dump(closeprice_10min, output)\n",
    "output.close()"
   ]
  },
  {
   "cell_type": "code",
   "execution_count": null,
   "metadata": {},
   "outputs": [
    {
     "name": "stderr",
     "output_type": "stream",
     "text": [
      "C:\\ProgramData\\Anaconda3\\lib\\site-packages\\ipykernel_launcher.py:15: SettingWithCopyWarning: \n",
      "A value is trying to be set on a copy of a slice from a DataFrame\n",
      "\n",
      "See the caveats in the documentation: https://pandas.pydata.org/pandas-docs/stable/user_guide/indexing.html#returning-a-view-versus-a-copy\n",
      "  from ipykernel import kernelapp as app\n"
     ]
    }
   ],
   "source": [
    "# import os\n",
    "# import re\n",
    "# import pandas as pd\n",
    "# pattern =r'(2022.*)(tapes)'\n",
    "# closeprice_10min =[]\n",
    "Openprice_10 = []\n",
    "Highprice_10 = []\n",
    "Lowprice_10 = []\n",
    "Volume_10 = []\n",
    "def extract_OHLCV(filepath):\n",
    "    data = pd.read_csv(filepath, encoding='latin1', names=[0, 1, 'time', 'price', 4, 5, 6, 7, 'qty', 9, 10])\n",
    "    data['qty_n'] = 0\n",
    "    for i in range(len(data)):\n",
    "        s = data.qty[i]\n",
    "        data.qty_n[i] = int(re.findall(r\".*(\\d+)\", s)[0])\n",
    "    data['amount'] = data['price'] * data['qty_n']\n",
    "    datanew = data.loc[:, ['time','price', 'amount']]\n",
    "\n",
    "    split_position = []\n",
    "    count = 1\n",
    "    for i in range(len(datanew) - 1):\n",
    "        if datanew['time'][i] < 600 * count and datanew['time'][i + 1] >= 600 * count:\n",
    "            split_position.append(i)\n",
    "            count += 1\n",
    "    split_position.insert(0, -1)\n",
    "    split_position.append(len(datanew))\n",
    "    Low = []\n",
    "    High = []\n",
    "    Open = []\n",
    "    Volume = []\n",
    "    for i in range(len(split_position) - 1):\n",
    "        Low.append(datanew.loc[split_position[i] + 1:split_position[i + 1] + 1, 'price'].min())\n",
    "        High.append(datanew.loc[split_position[i] + 1:split_position[i + 1] + 1, 'price'].max())\n",
    "        # Close = datanew.loc[:split_position[0]+1,'price'][-1]\n",
    "\n",
    "        Open.append(\n",
    "            datanew.loc[split_position[i] + 1:split_position[i + 1] + 1, 'price'][split_position[i] + 1])  # not 0\n",
    "        Volume.append(datanew.loc[split_position[i] + 1:split_position[i + 1] + 1, 'amount'].sum())\n",
    "    return Open, High, Low, Volume\n",
    "\n",
    "\n",
    "for root, directory,files in os.walk('F:\\MSc DS\\Mini project\\DataSet_B02'):\n",
    "    for filename in files:\n",
    "        if filename.endswith('csv'):\n",
    "            filepath =os.path.join(root,filename)\n",
    "            Open, High, Low, Volume = extract_OHLCV(filepath)\n",
    "            Openprice_10 = Openprice_10 + Open\n",
    "            Highprice_10 = Highprice_10 + High\n",
    "            Lowprice_10 = Lowprice_10 + Low\n",
    "            Volume_10 = Volume_10 + Volume\n",
    "\n",
    "import pickle\n",
    "saveddata = open('.\\Dataset_B02_10mins.pkl', 'rb')\n",
    "\n",
    "data2 = pickle.load(saveddata)\n",
    "Closeprice_10 = data2[:2040] # drop the final file close price there is something wrong\n",
    "dictprice = {'Open':Openprice_10,'High':Highprice_10,'Low':Lowprice_10,'Close':Closeprice_10,'Volume':Volume_10}\n",
    "time_interval_10 = pd.DataFrame(dictprice)\n",
    "time_interval_10.to_pickle('.\\Dataset_B02_10mins_OHLCV.pkl')"
   ]
  },
  {
   "cell_type": "code",
   "execution_count": null,
   "metadata": {},
   "outputs": [],
   "source": []
  }
 ],
 "metadata": {
  "kernelspec": {
   "display_name": "Python 3",
   "language": "python",
   "name": "python3"
  },
  "language_info": {
   "codemirror_mode": {
    "name": "ipython",
    "version": 3
   },
   "file_extension": ".py",
   "mimetype": "text/x-python",
   "name": "python",
   "nbconvert_exporter": "python",
   "pygments_lexer": "ipython3",
   "version": "3.7.4"
  }
 },
 "nbformat": 4,
 "nbformat_minor": 2
}
