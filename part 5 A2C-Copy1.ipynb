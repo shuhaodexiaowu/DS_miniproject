{
 "cells": [
  {
   "cell_type": "markdown",
   "metadata": {},
   "source": [
    " This part is trying to build an A2C model for trading."
   ]
  },
  {
   "cell_type": "code",
   "execution_count": 1,
   "metadata": {},
   "outputs": [],
   "source": [
    "import matplotlib.pyplot as plt\n",
    "import os\n",
    "import gym\n",
    "import numpy as np\n",
    "import tensorflow as tf\n",
    "import tensorlayer as tl"
   ]
  },
  {
   "cell_type": "code",
   "execution_count": 3,
   "metadata": {},
   "outputs": [],
   "source": [
    "import gym\n",
    "\n",
    "import preprocessing_stockenv\n",
    "import preprocessing_adding_technical_indicator\n",
    "\n",
    "import pandas as pd\n",
    "import numpy as np\n",
    "import random\n",
    "import tensorflow as tf\n",
    "from tensorflow import keras\n",
    "import tensorflow.keras.layers as kl"
   ]
  },
  {
   "cell_type": "code",
   "execution_count": 4,
   "metadata": {},
   "outputs": [],
   "source": [
    "data = preprocessing_adding_technical_indicator.add_technical_indicator()"
   ]
  },
  {
   "cell_type": "code",
   "execution_count": 6,
   "metadata": {},
   "outputs": [
    {
     "data": {
      "text/html": [
       "<div>\n",
       "<style scoped>\n",
       "    .dataframe tbody tr th:only-of-type {\n",
       "        vertical-align: middle;\n",
       "    }\n",
       "\n",
       "    .dataframe tbody tr th {\n",
       "        vertical-align: top;\n",
       "    }\n",
       "\n",
       "    .dataframe thead th {\n",
       "        text-align: right;\n",
       "    }\n",
       "</style>\n",
       "<table border=\"1\" class=\"dataframe\">\n",
       "  <thead>\n",
       "    <tr style=\"text-align: right;\">\n",
       "      <th></th>\n",
       "      <th>Open</th>\n",
       "      <th>High</th>\n",
       "      <th>Low</th>\n",
       "      <th>Close</th>\n",
       "      <th>Volume</th>\n",
       "      <th>cci</th>\n",
       "      <th>kdj</th>\n",
       "      <th>macd</th>\n",
       "    </tr>\n",
       "  </thead>\n",
       "  <tbody>\n",
       "    <tr>\n",
       "      <th>0</th>\n",
       "      <td>253</td>\n",
       "      <td>275</td>\n",
       "      <td>253</td>\n",
       "      <td>262</td>\n",
       "      <td>316346</td>\n",
       "      <td>-66.6667</td>\n",
       "      <td>46.9697</td>\n",
       "      <td>0.0000</td>\n",
       "    </tr>\n",
       "    <tr>\n",
       "      <th>1</th>\n",
       "      <td>268</td>\n",
       "      <td>272</td>\n",
       "      <td>254</td>\n",
       "      <td>263</td>\n",
       "      <td>310547</td>\n",
       "      <td>-66.6667</td>\n",
       "      <td>46.4646</td>\n",
       "      <td>0.0100</td>\n",
       "    </tr>\n",
       "    <tr>\n",
       "      <th>2</th>\n",
       "      <td>259</td>\n",
       "      <td>272</td>\n",
       "      <td>252</td>\n",
       "      <td>262</td>\n",
       "      <td>323198</td>\n",
       "      <td>-100.0000</td>\n",
       "      <td>45.4692</td>\n",
       "      <td>-0.0088</td>\n",
       "    </tr>\n",
       "    <tr>\n",
       "      <th>3</th>\n",
       "      <td>262</td>\n",
       "      <td>272</td>\n",
       "      <td>250</td>\n",
       "      <td>256</td>\n",
       "      <td>317700</td>\n",
       "      <td>-133.3333</td>\n",
       "      <td>38.3128</td>\n",
       "      <td>-0.1565</td>\n",
       "    </tr>\n",
       "    <tr>\n",
       "      <th>4</th>\n",
       "      <td>259</td>\n",
       "      <td>271</td>\n",
       "      <td>251</td>\n",
       "      <td>252</td>\n",
       "      <td>318941</td>\n",
       "      <td>-105.8559</td>\n",
       "      <td>28.2085</td>\n",
       "      <td>-0.3053</td>\n",
       "    </tr>\n",
       "  </tbody>\n",
       "</table>\n",
       "</div>"
      ],
      "text/plain": [
       "   Open  High  Low  Close  Volume       cci      kdj    macd\n",
       "0   253   275  253    262  316346  -66.6667  46.9697  0.0000\n",
       "1   268   272  254    263  310547  -66.6667  46.4646  0.0100\n",
       "2   259   272  252    262  323198 -100.0000  45.4692 -0.0088\n",
       "3   262   272  250    256  317700 -133.3333  38.3128 -0.1565\n",
       "4   259   271  251    252  318941 -105.8559  28.2085 -0.3053"
      ]
     },
     "execution_count": 6,
     "metadata": {},
     "output_type": "execute_result"
    }
   ],
   "source": [
    "data.head()"
   ]
  },
  {
   "cell_type": "code",
   "execution_count": 16,
   "metadata": {},
   "outputs": [],
   "source": [
    "# actor nn\n",
    "class Actor(object):\n",
    "\n",
    "    def __init__(self, state_dim =8, action_dim =3, lr=0.001):\n",
    "        \n",
    "\n",
    "        input_layer = tl.layers.Input([None, state_dim])\n",
    "        layer = tl.layers.Dense(n_units=16, act=tf.nn.relu6)(input_layer)\n",
    "        layer = tl.layers.Dense(n_units=action_dim)(layer)\n",
    "#         input_layer =kl.Input(shape=state_dim)\n",
    "#         layer1 = kl.Dense(12,activation ='elu')(input_layer)\n",
    "#         layer2 = kl.Dense(3)(layer1)\n",
    "\n",
    "        self.model = tl.models.Model(inputs=input_layer, outputs=layer)  # define the model in and out\n",
    "#         self.model = keras.Model(inputs = [input_layer],outputs =[layer2])\n",
    "        self.model.train()\n",
    "        self.optimizer = tf.optimizers.Adam(lr)\n",
    "\n",
    "    def learn(self, state, action, td_error):  # update weights according to cross_entropy\n",
    "        with tf.GradientTape() as tape:\n",
    "            _logits = self.model(np.array([state]))\n",
    "            _exp_v = tl.rein.cross_entropy_reward_loss(\n",
    "                logits=_logits, actions=[action], rewards=td_error)\n",
    "        grad = tape.gradient(_exp_v, self.model.trainable_weights)\n",
    "        self.optimizer.apply_gradients(zip(grad, self.model.trainable_weights))\n",
    "\n",
    "    def get_action(self, state,epsilon = 0.2):  # option : greedy para to get the max prob\n",
    "        if np.random.rand() < epsilon:\n",
    "            return np.random.randint(3)\n",
    "        else:\n",
    "            _logits = self.model(np.array([state]))\n",
    "            _prob = tf.nn.softmax(_logits).numpy()\n",
    "            return tl.rein.choice_action_by_probs(_prob.ravel())\n"
   ]
  },
  {
   "cell_type": "code",
   "execution_count": 17,
   "metadata": {},
   "outputs": [],
   "source": [
    "# critic nn\n",
    "class Critic(object):\n",
    "\n",
    "    def __init__(self, state_dim =9, lr=0.01): # 8 or 9 should be more than  actor because need to input action\n",
    "        input_layer = tl.layers.Input([None, state_dim])\n",
    "        layer = tl.layers.Dense(n_units=18, act=tf.nn.relu)(input_layer) # 12  is the twice of the input dimension\n",
    "        layer = tl.layers.Dense(n_units=1, act=None)(layer)  # output one\n",
    "\n",
    "        self.model = tl.models.Model(inputs=input_layer, outputs=layer)\n",
    "        self.model.train()\n",
    "        self.optimizer = tf.optimizers.Adam(lr)\n",
    "\n",
    "    def learn(self, state, reward, state_, done, action, action_):\n",
    "        d = 0 if done else 1\n",
    "        input1 = np.append(state,action).astype(np.float32)\n",
    "        input2 = np.append(state_,action_).astype(np.float32)\n",
    "\n",
    "        with tf.GradientTape() as tape:\n",
    "            v = self.model(np.array([input1]))\n",
    "            v_ = self.model(np.array([input2])) # new state  value\n",
    "            td_error = reward + d * gamma * v_ - v\n",
    "            loss = tf.square(td_error)  # MSE\n",
    "        grads = tape.gradient(loss, self.model.trainable_weights)\n",
    "        self.optimizer.apply_gradients(zip(grads, self.model.trainable_weights))\n",
    "        return td_error\n"
   ]
  },
  {
   "cell_type": "code",
   "execution_count": 19,
   "metadata": {},
   "outputs": [
    {
     "name": "stdout",
     "output_type": "stream",
     "text": [
      "[ 1.00000e+03  0.00000e+00  0.00000e+00  2.62000e+02  0.00000e+00\n",
      " -6.66667e+01  4.69697e+01  3.16346e+05]\n"
     ]
    }
   ],
   "source": [
    "data = preprocessing_adding_technical_indicator.add_technical_indicator()\n",
    "env = preprocess_env3_8features.StockEnv(data)\n",
    "LR_A = 0.001  # learning rate for actor\n",
    "LR_C = 0.01  # learning rate for critic\n",
    "decay = 0.005 # learning rate decay\n",
    "gamma = 0.95 # discount factor"
   ]
  },
  {
   "cell_type": "code",
   "execution_count": 20,
   "metadata": {},
   "outputs": [
    {
     "name": "stdout",
     "output_type": "stream",
     "text": [
      "[TL] Input  _inputlayer_3: [None, 8]\n",
      "[TL] Dense  dense_5: 16 relu6\n",
      "[TL] Dense  dense_6: 3 No Activation\n",
      "[TL] Input  _inputlayer_4: [None, 9]\n",
      "[TL] Dense  dense_7: 18 relu\n",
      "[TL] Dense  dense_8: 1 No Activation\n"
     ]
    }
   ],
   "source": [
    "actor = Actor(8, env.action_space.n, lr=LR_A)\n",
    "critic = Critic(9, lr=LR_C)"
   ]
  },
  {
   "cell_type": "code",
   "execution_count": 7,
   "metadata": {},
   "outputs": [],
   "source": [
    "# def trade_time_unit(env, obs):  #  using greedy policy\n",
    "#     action = actor.get_action(obs) # get the action\n",
    "#     print(action)\n",
    "#     next_state, reward, done, info = env.step(action)\n",
    "#     return next_state, reward, done, info"
   ]
  },
  {
   "cell_type": "code",
   "execution_count": 21,
   "metadata": {},
   "outputs": [],
   "source": [
    "def train_one_episode():\n",
    "    env.reset()\n",
    "    state = env.reset().astype(np.float32)\n",
    "    reward_total = 0\n",
    "    for step in range(2100):\n",
    "        action = actor.get_action(state)\n",
    "        next_state, reward, done, info = env.step(action)\n",
    "        reward_total = reward_total + reward\n",
    "        next_state = next_state.astype(np.float32)\n",
    "        action_ = actor.get_action(next_state)\n",
    "        td_error = critic.learn(state,reward,next_state,done,action, action_)\n",
    "        actor.learn(state,action,td_error)\n",
    "        state = next_state\n",
    "        if done:\n",
    "            print(state)\n",
    "            break\n",
    "    print(\"For this episode,reward total:{}\".format(reward_total))"
   ]
  },
  {
   "cell_type": "code",
   "execution_count": 37,
   "metadata": {},
   "outputs": [
    {
     "name": "stdout",
     "output_type": "stream",
     "text": [
      "[3.82165e+02 0.00000e+00 0.00000e+00 1.77000e+02 5.20000e-02 8.72270e+00\n",
      " 5.68858e+01 3.12915e+05]\n",
      "For this episode,reward total:-617.8350000000003\n",
      "[9.05382e+02 0.00000e+00 0.00000e+00 1.77000e+02 5.20000e-02 8.72270e+00\n",
      " 5.68858e+01 3.12915e+05]\n",
      "For this episode,reward total:-94.61800000000005\n",
      "[7.71290e+02 0.00000e+00 0.00000e+00 1.77000e+02 5.20000e-02 8.72270e+00\n",
      " 5.68858e+01 3.12915e+05]\n",
      "For this episode,reward total:-228.71000000000004\n",
      "[0.00000e+00 1.79000e+02 6.11700e+00 1.77000e+02 5.20000e-02 8.72270e+00\n",
      " 5.68858e+01 3.12915e+05]\n",
      "For this episode,reward total:70.44800000000009\n",
      "[0.00000e+00 1.78000e+02 8.56000e+00 1.77000e+02 5.20000e-02 8.72270e+00\n",
      " 5.68858e+01 3.12915e+05]\n",
      "For this episode,reward total:498.0000000000002\n",
      "[0.00000e+00 1.84000e+02 2.64900e+00 1.77000e+02 5.20000e-02 8.72270e+00\n",
      " 5.68858e+01 3.12915e+05]\n",
      "For this episode,reward total:-536.4250000000004\n",
      "[0.00000e+00 1.84000e+02 6.76700e+00 1.77000e+02 5.20000e-02 8.72270e+00\n",
      " 5.68858e+01 3.12915e+05]\n",
      "For this episode,reward total:184.2249999999999\n",
      "[0.00000e+00 1.70000e+02 4.93200e+00 1.77000e+02 5.20000e-02 8.72270e+00\n",
      " 5.68858e+01 3.12915e+05]\n",
      "For this episode,reward total:-136.89999999999998\n",
      "[0.00000e+00 1.68000e+02 5.32800e+00 1.77000e+02 5.20000e-02 8.72270e+00\n",
      " 5.68858e+01 3.12915e+05]\n",
      "For this episode,reward total:-67.60000000000002\n",
      "[0.00000e+00 1.81000e+02 7.17700e+00 1.77000e+02 5.20000e-02 8.72270e+00\n",
      " 5.68858e+01 3.12915e+05]\n",
      "For this episode,reward total:255.9749999999999\n"
     ]
    }
   ],
   "source": [
    "for i in range(10):\n",
    "    train_one_episode()"
   ]
  },
  {
   "cell_type": "markdown",
   "metadata": {},
   "source": [
    "After running more than 400 episodes, it seems hard to converge."
   ]
  },
  {
   "cell_type": "code",
   "execution_count": 42,
   "metadata": {},
   "outputs": [],
   "source": [
    "l =env.money_memory"
   ]
  },
  {
   "cell_type": "code",
   "execution_count": 46,
   "metadata": {},
   "outputs": [
    {
     "data": {
      "image/png": "[encoded data removed]",
      "text/plain": [
       "<Figure size 432x288 with 1 Axes>"
      ]
     },
     "metadata": {
      "needs_background": "light"
     },
     "output_type": "display_data"
    }
   ],
   "source": [
    "%matplotlib inline\n",
    "plt.plot(l)\n",
    "plt.show()"
   ]
  },
  {
   "cell_type": "code",
   "execution_count": null,
   "metadata": {},
   "outputs": [],
   "source": []
  }
 ],
 "metadata": {
  "kernelspec": {
   "display_name": "Python 3",
   "language": "python",
   "name": "python3"
  },
  "language_info": {
   "codemirror_mode": {
    "name": "ipython",
    "version": 3
   },
   "file_extension": ".py",
   "mimetype": "text/x-python",
   "name": "python",
   "nbconvert_exporter": "python",
   "pygments_lexer": "ipython3",
   "version": "3.7.4"
  }
 },
 "nbformat": 4,
 "nbformat_minor": 2
}
